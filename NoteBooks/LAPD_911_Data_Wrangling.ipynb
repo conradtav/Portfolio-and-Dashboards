{
  "nbformat": 4,
  "nbformat_minor": 0,
  "metadata": {
    "colab": {
      "name": "LAPD_911.ipynb",
      "provenance": [],
      "authorship_tag": "ABX9TyMEj2QuiJtSfoBfC2yBNAj5",
      "include_colab_link": true
    },
    "kernelspec": {
      "name": "python3",
      "display_name": "Python 3"
    }
  },
  "cells": [
    {
      "cell_type": "markdown",
      "metadata": {
        "id": "view-in-github",
        "colab_type": "text"
      },
      "source": [
        "<a href=\"https://colab.research.google.com/github/conradtav/Portfolio/blob/master/LAPD_911.ipynb\" target=\"_parent\"><img src=\"https://colab.research.google.com/assets/colab-badge.svg\" alt=\"Open In Colab\"/></a>"
      ]
    },
    {
      "cell_type": "code",
      "metadata": {
        "id": "H_Q6t60oy8lP",
        "colab_type": "code",
        "colab": {}
      },
      "source": [
        "import pandas as pd\n",
        "import numpy as np"
      ],
      "execution_count": 1,
      "outputs": []
    },
    {
      "cell_type": "code",
      "metadata": {
        "id": "n779_K-Kz-T1",
        "colab_type": "code",
        "colab": {
          "base_uri": "https://localhost:8080/",
          "height": 197
        },
        "outputId": "16ca23ae-7dfe-4a47-efd6-be1b9e4c16e0"
      },
      "source": [
        "LAPD = pd.read_csv(\"/content/LAPD_Calls_for_Service_2020.csv\").sample(n=100000, random_state=12, replace=True)\n",
        "LAPD = LAPD[LAPD['Area_Occ']!='Outside']\n",
        "\n",
        "LAPD['Area_Occ'] = LAPD['Area_Occ'].replace('N Hollywood', 'N Hollywood NORTHEAST', regex=True)\n",
        "LAPD['Area_Occ'] = LAPD['Area_Occ'].replace('Devonshire', 'Northridge', regex=True)\n",
        "LAPD['Area_Occ'] = LAPD['Area_Occ'].replace('77th Street', 'South Central', regex=True)\n",
        "LAPD['Area_Occ'] = LAPD['Area_Occ'].replace('Pacific', 'Mar Vista', regex=True)\n",
        "LAPD['Area_Occ'] = LAPD['Area_Occ'].replace('Newton', 'Alameda', regex=True)\n",
        "LAPD['Area_Occ'] = LAPD['Area_Occ'].replace('Northeast', 'Atwater', regex=True)\n",
        "LAPD['Area_Occ'] = LAPD['Area_Occ'].replace('West Valley', 'Encino', regex=True)\n",
        "LAPD['Area_Occ'] = LAPD['Area_Occ'].replace('Hollenbeck', 'Boyle Heights', regex=True)\n",
        "LAPD['Area_Occ'] = LAPD['Area_Occ'].replace('West LA', 'Westwood', regex=True)\n",
        "LAPD['Area_Occ'] = LAPD['Area_Occ'].replace('Central', 'Downtown Los Angeles', regex=True)\n",
        "\n",
        "\n",
        "LAPD.head()"
      ],
      "execution_count": 49,
      "outputs": [
        {
          "output_type": "execute_result",
          "data": {
            "text/html": [
              "<div>\n",
              "<style scoped>\n",
              "    .dataframe tbody tr th:only-of-type {\n",
              "        vertical-align: middle;\n",
              "    }\n",
              "\n",
              "    .dataframe tbody tr th {\n",
              "        vertical-align: top;\n",
              "    }\n",
              "\n",
              "    .dataframe thead th {\n",
              "        text-align: right;\n",
              "    }\n",
              "</style>\n",
              "<table border=\"1\" class=\"dataframe\">\n",
              "  <thead>\n",
              "    <tr style=\"text-align: right;\">\n",
              "      <th></th>\n",
              "      <th>Incident_Number</th>\n",
              "      <th>Area_Occ</th>\n",
              "      <th>Rpt_Dist</th>\n",
              "      <th>Dispatch_Date</th>\n",
              "      <th>Dispatch_Time</th>\n",
              "      <th>Call_Type_Code</th>\n",
              "      <th>Call_Type_Text</th>\n",
              "    </tr>\n",
              "  </thead>\n",
              "  <tbody>\n",
              "    <tr>\n",
              "      <th>472907</th>\n",
              "      <td>PD20021100001866</td>\n",
              "      <td>Rampart</td>\n",
              "      <td>216.0</td>\n",
              "      <td>02/11/2020 12:00:00 AM</td>\n",
              "      <td>09:48:14</td>\n",
              "      <td>242A</td>\n",
              "      <td>AMB</td>\n",
              "    </tr>\n",
              "    <tr>\n",
              "      <th>759451</th>\n",
              "      <td>PD20052600005147</td>\n",
              "      <td>N Hollywood NORTHEAST</td>\n",
              "      <td>1549.0</td>\n",
              "      <td>05/26/2020 12:00:00 AM</td>\n",
              "      <td>19:49:33</td>\n",
              "      <td>9212</td>\n",
              "      <td>TRESPASS SUSP</td>\n",
              "    </tr>\n",
              "    <tr>\n",
              "      <th>412925</th>\n",
              "      <td>PD20050800000797</td>\n",
              "      <td>Southwest</td>\n",
              "      <td>341.0</td>\n",
              "      <td>05/08/2020 12:00:00 AM</td>\n",
              "      <td>06:39:15</td>\n",
              "      <td>9032</td>\n",
              "      <td>HAZARD</td>\n",
              "    </tr>\n",
              "    <tr>\n",
              "      <th>564465</th>\n",
              "      <td>PD20032000001222</td>\n",
              "      <td>Atwater</td>\n",
              "      <td>1142.0</td>\n",
              "      <td>03/20/2020 12:00:00 AM</td>\n",
              "      <td>09:15:10</td>\n",
              "      <td>906B1</td>\n",
              "      <td>CODE 30 RINGER</td>\n",
              "    </tr>\n",
              "    <tr>\n",
              "      <th>915395</th>\n",
              "      <td>PD20062800004479</td>\n",
              "      <td>Northridge</td>\n",
              "      <td>1735.0</td>\n",
              "      <td>06/28/2020 12:00:00 AM</td>\n",
              "      <td>20:31:04</td>\n",
              "      <td>507F</td>\n",
              "      <td>FIREWORKS</td>\n",
              "    </tr>\n",
              "  </tbody>\n",
              "</table>\n",
              "</div>"
            ],
            "text/plain": [
              "         Incident_Number               Area_Occ  ...  Call_Type_Code  Call_Type_Text\n",
              "472907  PD20021100001866                Rampart  ...            242A             AMB\n",
              "759451  PD20052600005147  N Hollywood NORTHEAST  ...            9212   TRESPASS SUSP\n",
              "412925  PD20050800000797              Southwest  ...            9032          HAZARD\n",
              "564465  PD20032000001222                Atwater  ...           906B1  CODE 30 RINGER\n",
              "915395  PD20062800004479             Northridge  ...            507F       FIREWORKS\n",
              "\n",
              "[5 rows x 7 columns]"
            ]
          },
          "metadata": {
            "tags": []
          },
          "execution_count": 49
        }
      ]
    },
    {
      "cell_type": "code",
      "metadata": {
        "id": "n89w-LIW2tOY",
        "colab_type": "code",
        "colab": {}
      },
      "source": [
        "census = pd.read_csv(\"/content/Census_Data_by_Neighborhood_Council.csv\")\n",
        "#census['NC_Name'] = \n",
        "census['NC_Name'] = census['NC_Name'].str[:-3]"
      ],
      "execution_count": 50,
      "outputs": []
    },
    {
      "cell_type": "code",
      "metadata": {
        "id": "n6JVMrt82taF",
        "colab_type": "code",
        "colab": {
          "base_uri": "https://localhost:8080/",
          "height": 70
        },
        "outputId": "757f7b93-85a8-47ec-fd85-5bf7b99a56af"
      },
      "source": [
        "!pip install fuzzywuzzy\n",
        "!pip install python-Levenshtein"
      ],
      "execution_count": 33,
      "outputs": [
        {
          "output_type": "stream",
          "text": [
            "Requirement already satisfied: fuzzywuzzy in /usr/local/lib/python3.6/dist-packages (0.18.0)\n",
            "Requirement already satisfied: python-Levenshtein in /usr/local/lib/python3.6/dist-packages (0.12.0)\n",
            "Requirement already satisfied: setuptools in /usr/local/lib/python3.6/dist-packages (from python-Levenshtein) (49.2.0)\n"
          ],
          "name": "stdout"
        }
      ]
    },
    {
      "cell_type": "code",
      "metadata": {
        "id": "Q4rfJ6RQ3cB1",
        "colab_type": "code",
        "colab": {}
      },
      "source": [
        "import pandas as pd \n",
        "from fuzzywuzzy import fuzz \n",
        "from fuzzywuzzy import process\n",
        "def checker(wrong_options,correct_options):\n",
        "    names_array=[]\n",
        "    ratio_array=[]    \n",
        "    for wrong_option in wrong_options:\n",
        "        if wrong_option in correct_options:\n",
        "           names_array.append(wrong_option)\n",
        "           ratio_array.append('100')\n",
        "        else:   \n",
        "            x=process.extractOne(wrong_option,correct_options,scorer=fuzz.token_set_ratio)\n",
        "            names_array.append(x[0])\n",
        "            ratio_array.append(x[1])\n",
        "    return names_array,ratio_array"
      ],
      "execution_count": 51,
      "outputs": []
    },
    {
      "cell_type": "code",
      "metadata": {
        "id": "vCUrCv9o4vFy",
        "colab_type": "code",
        "colab": {}
      },
      "source": [
        "str2Match = LAPD['Area_Occ'].fillna('######').tolist()\n",
        "\n",
        "strOptions =census['NC_Name'].fillna('######').tolist()"
      ],
      "execution_count": 52,
      "outputs": []
    },
    {
      "cell_type": "code",
      "metadata": {
        "id": "GUS25e-t4PHr",
        "colab_type": "code",
        "colab": {}
      },
      "source": [
        "\n",
        "name_match, ratio_match=checker(str2Match,strOptions)\n",
        "\n",
        "s1=pd.Series(str2Match)\n",
        "\n",
        "s2=pd.Series(name_match)\n",
        "\n",
        "s3=pd.Series(ratio_match)\n"
      ],
      "execution_count": 53,
      "outputs": []
    },
    {
      "cell_type": "code",
      "metadata": {
        "id": "0cx1sLJ9LXq7",
        "colab_type": "code",
        "colab": {
          "base_uri": "https://localhost:8080/",
          "height": 123
        },
        "outputId": "8d891ac1-d1c2-416f-bd80-8e3e76516df1"
      },
      "source": [
        "LAPD['Area_Occ'].unique()"
      ],
      "execution_count": 54,
      "outputs": [
        {
          "output_type": "execute_result",
          "data": {
            "text/plain": [
              "array(['Rampart', 'N Hollywood NORTHEAST', 'Southwest', 'Atwater',\n",
              "       'Northridge', 'Foothill', 'Southeast', 'Mission', 'Olympic',\n",
              "       'Encino', 'Boyle Heights', 'Alameda', 'Wilshire',\n",
              "       'Downtown Los Angeles', 'Mar Vista', 'Topanga', 'Hollywood',\n",
              "       'South Downtown Los Angeles', 'Harbor', 'Westwood', 'Van Nuys'],\n",
              "      dtype=object)"
            ]
          },
          "metadata": {
            "tags": []
          },
          "execution_count": 54
        }
      ]
    },
    {
      "cell_type": "code",
      "metadata": {
        "id": "b296_UN_DXUB",
        "colab_type": "code",
        "colab": {
          "base_uri": "https://localhost:8080/",
          "height": 677
        },
        "outputId": "41826058-2049-4bde-c984-fda0ac30b80c"
      },
      "source": [
        "matches = pd.DataFrame([s1, s2, s3])\n",
        "matches.T.drop_duplicates()"
      ],
      "execution_count": 55,
      "outputs": [
        {
          "output_type": "execute_result",
          "data": {
            "text/html": [
              "<div>\n",
              "<style scoped>\n",
              "    .dataframe tbody tr th:only-of-type {\n",
              "        vertical-align: middle;\n",
              "    }\n",
              "\n",
              "    .dataframe tbody tr th {\n",
              "        vertical-align: top;\n",
              "    }\n",
              "\n",
              "    .dataframe thead th {\n",
              "        text-align: right;\n",
              "    }\n",
              "</style>\n",
              "<table border=\"1\" class=\"dataframe\">\n",
              "  <thead>\n",
              "    <tr style=\"text-align: right;\">\n",
              "      <th></th>\n",
              "      <th>0</th>\n",
              "      <th>1</th>\n",
              "      <th>2</th>\n",
              "    </tr>\n",
              "  </thead>\n",
              "  <tbody>\n",
              "    <tr>\n",
              "      <th>0</th>\n",
              "      <td>Rampart</td>\n",
              "      <td>RAMPART VILLAGE</td>\n",
              "      <td>100</td>\n",
              "    </tr>\n",
              "    <tr>\n",
              "      <th>1</th>\n",
              "      <td>N Hollywood NORTHEAST</td>\n",
              "      <td>NORTH HOLLYWOOD NORTHEAST</td>\n",
              "      <td>95</td>\n",
              "    </tr>\n",
              "    <tr>\n",
              "      <th>2</th>\n",
              "      <td>Southwest</td>\n",
              "      <td>EMPOWERMENT CONGRESS SOUTHWEST AREA</td>\n",
              "      <td>100</td>\n",
              "    </tr>\n",
              "    <tr>\n",
              "      <th>3</th>\n",
              "      <td>Atwater</td>\n",
              "      <td>ATWATER VILLAGE</td>\n",
              "      <td>100</td>\n",
              "    </tr>\n",
              "    <tr>\n",
              "      <th>4</th>\n",
              "      <td>Northridge</td>\n",
              "      <td>NORTHRIDGE E</td>\n",
              "      <td>100</td>\n",
              "    </tr>\n",
              "    <tr>\n",
              "      <th>5</th>\n",
              "      <td>Foothill</td>\n",
              "      <td>FOOTHILL TRAILS DISTRICT</td>\n",
              "      <td>100</td>\n",
              "    </tr>\n",
              "    <tr>\n",
              "      <th>6</th>\n",
              "      <td>Southeast</td>\n",
              "      <td>EMPOWERMENT CONGRESS SOUTHEAST AREA</td>\n",
              "      <td>100</td>\n",
              "    </tr>\n",
              "    <tr>\n",
              "      <th>8</th>\n",
              "      <td>Mission</td>\n",
              "      <td>MISSION HILLS</td>\n",
              "      <td>100</td>\n",
              "    </tr>\n",
              "    <tr>\n",
              "      <th>9</th>\n",
              "      <td>Olympic</td>\n",
              "      <td>OLYMPIC PARK</td>\n",
              "      <td>100</td>\n",
              "    </tr>\n",
              "    <tr>\n",
              "      <th>10</th>\n",
              "      <td>Encino</td>\n",
              "      <td>ENCINO</td>\n",
              "      <td>100</td>\n",
              "    </tr>\n",
              "    <tr>\n",
              "      <th>12</th>\n",
              "      <td>Boyle Heights</td>\n",
              "      <td>BOYLE HEIGHTS</td>\n",
              "      <td>100</td>\n",
              "    </tr>\n",
              "    <tr>\n",
              "      <th>16</th>\n",
              "      <td>Alameda</td>\n",
              "      <td>CENTRAL ALAMEDA</td>\n",
              "      <td>100</td>\n",
              "    </tr>\n",
              "    <tr>\n",
              "      <th>21</th>\n",
              "      <td>Wilshire</td>\n",
              "      <td>GREATER WILSHIRE</td>\n",
              "      <td>100</td>\n",
              "    </tr>\n",
              "    <tr>\n",
              "      <th>26</th>\n",
              "      <td>Downtown Los Angeles</td>\n",
              "      <td>DOWNTOWN LOS ANGE</td>\n",
              "      <td>92</td>\n",
              "    </tr>\n",
              "    <tr>\n",
              "      <th>28</th>\n",
              "      <td>Mar Vista</td>\n",
              "      <td>MAR VISTA</td>\n",
              "      <td>100</td>\n",
              "    </tr>\n",
              "    <tr>\n",
              "      <th>33</th>\n",
              "      <td>Topanga</td>\n",
              "      <td>TARZANA</td>\n",
              "      <td>57</td>\n",
              "    </tr>\n",
              "    <tr>\n",
              "      <th>34</th>\n",
              "      <td>Hollywood</td>\n",
              "      <td>CENTRAL HOLLYWOOD</td>\n",
              "      <td>100</td>\n",
              "    </tr>\n",
              "    <tr>\n",
              "      <th>37</th>\n",
              "      <td>South Downtown Los Angeles</td>\n",
              "      <td>DOWNTOWN LOS ANGE</td>\n",
              "      <td>83</td>\n",
              "    </tr>\n",
              "    <tr>\n",
              "      <th>42</th>\n",
              "      <td>Harbor</td>\n",
              "      <td>HARBOR CITY</td>\n",
              "      <td>100</td>\n",
              "    </tr>\n",
              "    <tr>\n",
              "      <th>44</th>\n",
              "      <td>Westwood</td>\n",
              "      <td>WESTWOOD</td>\n",
              "      <td>100</td>\n",
              "    </tr>\n",
              "    <tr>\n",
              "      <th>45</th>\n",
              "      <td>Van Nuys</td>\n",
              "      <td>VAN NUYS</td>\n",
              "      <td>100</td>\n",
              "    </tr>\n",
              "  </tbody>\n",
              "</table>\n",
              "</div>"
            ],
            "text/plain": [
              "                             0                                     1    2\n",
              "0                      Rampart                       RAMPART VILLAGE  100\n",
              "1        N Hollywood NORTHEAST             NORTH HOLLYWOOD NORTHEAST   95\n",
              "2                    Southwest  EMPOWERMENT CONGRESS SOUTHWEST AREA   100\n",
              "3                      Atwater                       ATWATER VILLAGE  100\n",
              "4                   Northridge                          NORTHRIDGE E  100\n",
              "5                     Foothill              FOOTHILL TRAILS DISTRICT  100\n",
              "6                    Southeast  EMPOWERMENT CONGRESS SOUTHEAST AREA   100\n",
              "8                      Mission                         MISSION HILLS  100\n",
              "9                      Olympic                          OLYMPIC PARK  100\n",
              "10                      Encino                                ENCINO  100\n",
              "12               Boyle Heights                         BOYLE HEIGHTS  100\n",
              "16                     Alameda                       CENTRAL ALAMEDA  100\n",
              "21                    Wilshire                      GREATER WILSHIRE  100\n",
              "26        Downtown Los Angeles                     DOWNTOWN LOS ANGE   92\n",
              "28                   Mar Vista                             MAR VISTA  100\n",
              "33                     Topanga                               TARZANA   57\n",
              "34                   Hollywood                     CENTRAL HOLLYWOOD  100\n",
              "37  South Downtown Los Angeles                     DOWNTOWN LOS ANGE   83\n",
              "42                      Harbor                           HARBOR CITY  100\n",
              "44                    Westwood                              WESTWOOD  100\n",
              "45                    Van Nuys                              VAN NUYS  100"
            ]
          },
          "metadata": {
            "tags": []
          },
          "execution_count": 55
        }
      ]
    },
    {
      "cell_type": "code",
      "metadata": {
        "id": "kS2N_Ajp-HTg",
        "colab_type": "code",
        "colab": {
          "base_uri": "https://localhost:8080/",
          "height": 197
        },
        "outputId": "7910891d-404f-45c2-b0ed-33038d6c44da"
      },
      "source": [
        "#pd.concat(LAPD, s1, s2, s3, ignore_index = True)\n",
        "LAPD.reset_index(drop=True, inplace=True)\n",
        "s1.reset_index(drop=True, inplace=True)\n",
        "LAPD = pd.concat([LAPD, s1, s2, s3], axis=1, ignore_index=True)\n"
      ],
      "execution_count": 56,
      "outputs": [
        {
          "output_type": "execute_result",
          "data": {
            "text/html": [
              "<div>\n",
              "<style scoped>\n",
              "    .dataframe tbody tr th:only-of-type {\n",
              "        vertical-align: middle;\n",
              "    }\n",
              "\n",
              "    .dataframe tbody tr th {\n",
              "        vertical-align: top;\n",
              "    }\n",
              "\n",
              "    .dataframe thead th {\n",
              "        text-align: right;\n",
              "    }\n",
              "</style>\n",
              "<table border=\"1\" class=\"dataframe\">\n",
              "  <thead>\n",
              "    <tr style=\"text-align: right;\">\n",
              "      <th></th>\n",
              "      <th>0</th>\n",
              "      <th>1</th>\n",
              "      <th>2</th>\n",
              "      <th>3</th>\n",
              "      <th>4</th>\n",
              "      <th>5</th>\n",
              "      <th>6</th>\n",
              "      <th>7</th>\n",
              "      <th>8</th>\n",
              "      <th>9</th>\n",
              "    </tr>\n",
              "  </thead>\n",
              "  <tbody>\n",
              "    <tr>\n",
              "      <th>0</th>\n",
              "      <td>PD20021100001866</td>\n",
              "      <td>Rampart</td>\n",
              "      <td>216.0</td>\n",
              "      <td>02/11/2020 12:00:00 AM</td>\n",
              "      <td>09:48:14</td>\n",
              "      <td>242A</td>\n",
              "      <td>AMB</td>\n",
              "      <td>Rampart</td>\n",
              "      <td>RAMPART VILLAGE</td>\n",
              "      <td>100</td>\n",
              "    </tr>\n",
              "    <tr>\n",
              "      <th>1</th>\n",
              "      <td>PD20052600005147</td>\n",
              "      <td>N Hollywood NORTHEAST</td>\n",
              "      <td>1549.0</td>\n",
              "      <td>05/26/2020 12:00:00 AM</td>\n",
              "      <td>19:49:33</td>\n",
              "      <td>9212</td>\n",
              "      <td>TRESPASS SUSP</td>\n",
              "      <td>N Hollywood NORTHEAST</td>\n",
              "      <td>NORTH HOLLYWOOD NORTHEAST</td>\n",
              "      <td>95</td>\n",
              "    </tr>\n",
              "    <tr>\n",
              "      <th>2</th>\n",
              "      <td>PD20050800000797</td>\n",
              "      <td>Southwest</td>\n",
              "      <td>341.0</td>\n",
              "      <td>05/08/2020 12:00:00 AM</td>\n",
              "      <td>06:39:15</td>\n",
              "      <td>9032</td>\n",
              "      <td>HAZARD</td>\n",
              "      <td>Southwest</td>\n",
              "      <td>EMPOWERMENT CONGRESS SOUTHWEST AREA</td>\n",
              "      <td>100</td>\n",
              "    </tr>\n",
              "    <tr>\n",
              "      <th>3</th>\n",
              "      <td>PD20032000001222</td>\n",
              "      <td>Atwater</td>\n",
              "      <td>1142.0</td>\n",
              "      <td>03/20/2020 12:00:00 AM</td>\n",
              "      <td>09:15:10</td>\n",
              "      <td>906B1</td>\n",
              "      <td>CODE 30 RINGER</td>\n",
              "      <td>Atwater</td>\n",
              "      <td>ATWATER VILLAGE</td>\n",
              "      <td>100</td>\n",
              "    </tr>\n",
              "    <tr>\n",
              "      <th>4</th>\n",
              "      <td>PD20062800004479</td>\n",
              "      <td>Northridge</td>\n",
              "      <td>1735.0</td>\n",
              "      <td>06/28/2020 12:00:00 AM</td>\n",
              "      <td>20:31:04</td>\n",
              "      <td>507F</td>\n",
              "      <td>FIREWORKS</td>\n",
              "      <td>Northridge</td>\n",
              "      <td>NORTHRIDGE E</td>\n",
              "      <td>100</td>\n",
              "    </tr>\n",
              "  </tbody>\n",
              "</table>\n",
              "</div>"
            ],
            "text/plain": [
              "                  0  ...    9\n",
              "0  PD20021100001866  ...  100\n",
              "1  PD20052600005147  ...   95\n",
              "2  PD20050800000797  ...  100\n",
              "3  PD20032000001222  ...  100\n",
              "4  PD20062800004479  ...  100\n",
              "\n",
              "[5 rows x 10 columns]"
            ]
          },
          "metadata": {
            "tags": []
          },
          "execution_count": 56
        }
      ]
    },
    {
      "cell_type": "code",
      "metadata": {
        "id": "NgDsYGN5Ux5x",
        "colab_type": "code",
        "colab": {
          "base_uri": "https://localhost:8080/",
          "height": 185
        },
        "outputId": "e49e76ac-bc3a-40a3-c13b-beac085987a5"
      },
      "source": [
        "LAPD.columns = ['Id', 'Incident_Number\tArea_Occ',\t'Rpt_Dist',\t'Dispatch_Date',\t'Dispatch_Time',\t'Call_Type_Code',\t'Call_Type_Text', 'original', 'Match', \"Match_Score\"]\n",
        "LAPD.merge(LAPD, census, how='left', left_on='Match', right_on='NC_Name')\n"
      ],
      "execution_count": 68,
      "outputs": [
        {
          "output_type": "error",
          "ename": "TypeError",
          "evalue": "ignored",
          "traceback": [
            "\u001b[0;31m---------------------------------------------------------------------------\u001b[0m",
            "\u001b[0;31mTypeError\u001b[0m                                 Traceback (most recent call last)",
            "\u001b[0;32m<ipython-input-68-e5f216324539>\u001b[0m in \u001b[0;36m<module>\u001b[0;34m()\u001b[0m\n\u001b[1;32m      1\u001b[0m \u001b[0mLAPD\u001b[0m\u001b[0;34m.\u001b[0m\u001b[0mcolumns\u001b[0m \u001b[0;34m=\u001b[0m \u001b[0;34m[\u001b[0m\u001b[0;34m'Id'\u001b[0m\u001b[0;34m,\u001b[0m \u001b[0;34m'Incident_Number  Area_Occ'\u001b[0m\u001b[0;34m,\u001b[0m      \u001b[0;34m'Rpt_Dist'\u001b[0m\u001b[0;34m,\u001b[0m     \u001b[0;34m'Dispatch_Date'\u001b[0m\u001b[0;34m,\u001b[0m        \u001b[0;34m'Dispatch_Time'\u001b[0m\u001b[0;34m,\u001b[0m        \u001b[0;34m'Call_Type_Code'\u001b[0m\u001b[0;34m,\u001b[0m       \u001b[0;34m'Call_Type_Text'\u001b[0m\u001b[0;34m,\u001b[0m \u001b[0;34m'original'\u001b[0m\u001b[0;34m,\u001b[0m \u001b[0;34m'Match'\u001b[0m\u001b[0;34m,\u001b[0m \u001b[0;34m\"Match_Score\"\u001b[0m\u001b[0;34m]\u001b[0m\u001b[0;34m\u001b[0m\u001b[0;34m\u001b[0m\u001b[0m\n\u001b[0;32m----> 2\u001b[0;31m \u001b[0mLAPD\u001b[0m\u001b[0;34m.\u001b[0m\u001b[0mmerge\u001b[0m\u001b[0;34m(\u001b[0m\u001b[0mLAPD\u001b[0m\u001b[0;34m,\u001b[0m \u001b[0mcensus\u001b[0m\u001b[0;34m,\u001b[0m \u001b[0mhow\u001b[0m\u001b[0;34m=\u001b[0m\u001b[0;34m'left'\u001b[0m\u001b[0;34m,\u001b[0m \u001b[0mleft_on\u001b[0m\u001b[0;34m=\u001b[0m\u001b[0;34m'Match'\u001b[0m\u001b[0;34m,\u001b[0m \u001b[0mright_on\u001b[0m\u001b[0;34m=\u001b[0m\u001b[0;34m'NC_Name'\u001b[0m\u001b[0;34m)\u001b[0m\u001b[0;34m\u001b[0m\u001b[0;34m\u001b[0m\u001b[0m\n\u001b[0m",
            "\u001b[0;31mTypeError\u001b[0m: merge() got multiple values for argument 'how'"
          ]
        }
      ]
    }
  ]
}