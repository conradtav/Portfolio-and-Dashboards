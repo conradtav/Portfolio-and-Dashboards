{
  "nbformat": 4,
  "nbformat_minor": 0,
  "metadata": {
    "colab": {
      "name": "ChartMaker",
      "provenance": [],
      "collapsed_sections": []
    },
    "kernelspec": {
      "name": "python3",
      "display_name": "Python 3"
    }
  },
  "cells": [
    {
      "cell_type": "markdown",
      "metadata": {
        "id": "ZFDA9ykbDrOJ",
        "colab_type": "text"
      },
      "source": [
        "# Plot Maker Notebook"
      ]
    },
    {
      "cell_type": "markdown",
      "metadata": {
        "id": "YOzPRBIzELYz",
        "colab_type": "text"
      },
      "source": [
        "## Introduction and Enviroment Setup"
      ]
    },
    {
      "cell_type": "markdown",
      "metadata": {
        "id": "i_NnnaAQEYNT",
        "colab_type": "text"
      },
      "source": [
        "Import Packages and Connect to Google Drive\n",
        "\n",
        "1. Run Code\n",
        "2. Click on generated link\n",
        "3. Allow access\n",
        "4. Copy the authorization code\n",
        "5. Paste code and press ENTER   \n",
        "\n"
      ]
    },
    {
      "cell_type": "code",
      "metadata": {
        "id": "__K2aN8SDkGq",
        "colab_type": "code",
        "colab": {
          "base_uri": "https://localhost:8080/",
          "height": 122
        },
        "outputId": "40f48e9b-1ab7-4f0a-8242-b3fa2b32093b"
      },
      "source": [
        "import pandas as pd\n",
        "import numpy as np\n",
        "import io\n",
        "from google.colab import drive\n",
        "import altair as alt\n",
        "\n",
        "drive.mount('/content/drive')"
      ],
      "execution_count": null,
      "outputs": [
        {
          "output_type": "stream",
          "text": [
            "Go to this URL in a browser: https://accounts.google.com/o/oauth2/auth?client_id=947318989803-6bn6qk8qdgf4n4g3pfee6491hc0brc4i.apps.googleusercontent.com&redirect_uri=urn%3aietf%3awg%3aoauth%3a2.0%3aoob&response_type=code&scope=email%20https%3a%2f%2fwww.googleapis.com%2fauth%2fdocs.test%20https%3a%2f%2fwww.googleapis.com%2fauth%2fdrive%20https%3a%2f%2fwww.googleapis.com%2fauth%2fdrive.photos.readonly%20https%3a%2f%2fwww.googleapis.com%2fauth%2fpeopleapi.readonly\n",
            "\n",
            "Enter your authorization code:\n",
            "··········\n",
            "Mounted at /content/drive\n"
          ],
          "name": "stdout"
        }
      ]
    },
    {
      "cell_type": "markdown",
      "metadata": {
        "id": "6e23nTXbgvp2",
        "colab_type": "text"
      },
      "source": [
        "First time users run the code below to install additional packages"
      ]
    },
    {
      "cell_type": "code",
      "metadata": {
        "id": "XetNa2-zZpL9",
        "colab_type": "code",
        "colab": {}
      },
      "source": [
        "alt.renderers.enable('colab')\n",
        "!pip install -q altair_saver\n",
        "!apt-get -qq install chromium-chromedriver\n",
        "!npm install --silent vega-lite vega-cli canvas"
      ],
      "execution_count": null,
      "outputs": []
    },
    {
      "cell_type": "markdown",
      "metadata": {
        "id": "Wi70GpGPFCGo",
        "colab_type": "text"
      },
      "source": [
        "## Import Data"
      ]
    },
    {
      "cell_type": "markdown",
      "metadata": {
        "id": "wVIs3MdHhOe5",
        "colab_type": "text"
      },
      "source": [
        "Click on the folder to the left side and finde the csv file that you wish to plot. Then run the code and make sure that the proper columns are selected."
      ]
    },
    {
      "cell_type": "code",
      "metadata": {
        "id": "Ct5FIcqhFJnz",
        "colab_type": "code",
        "colab": {
          "base_uri": "https://localhost:8080/",
          "height": 204
        },
        "outputId": "0eee611b-4f61-400b-97ad-5ffa76d22c22"
      },
      "source": [
        "\n",
        "path = \"/content/drive/My Drive/sample_JL.csv\"\n",
        "JL_polls = pd.read_csv(path)\n",
        "JL_polls = JL_polls.iloc[:,0:10]\n",
        "JL_polls.columns = [\"id\", \"User\", \"UserEmail\", \"Time\", \"Question1\", \"Answer1\", \"Question2\", \"Answer2\", \"Question3\", \"Answer3\"]\n",
        "JL_polls.head()\n"
      ],
      "execution_count": null,
      "outputs": [
        {
          "output_type": "execute_result",
          "data": {
            "text/html": [
              "<div>\n",
              "<style scoped>\n",
              "    .dataframe tbody tr th:only-of-type {\n",
              "        vertical-align: middle;\n",
              "    }\n",
              "\n",
              "    .dataframe tbody tr th {\n",
              "        vertical-align: top;\n",
              "    }\n",
              "\n",
              "    .dataframe thead th {\n",
              "        text-align: right;\n",
              "    }\n",
              "</style>\n",
              "<table border=\"1\" class=\"dataframe\">\n",
              "  <thead>\n",
              "    <tr style=\"text-align: right;\">\n",
              "      <th></th>\n",
              "      <th>id</th>\n",
              "      <th>User</th>\n",
              "      <th>UserEmail</th>\n",
              "      <th>Time</th>\n",
              "      <th>Question1</th>\n",
              "      <th>Answer1</th>\n",
              "      <th>Question2</th>\n",
              "      <th>Answer2</th>\n",
              "      <th>Question3</th>\n",
              "      <th>Answer3</th>\n",
              "    </tr>\n",
              "  </thead>\n",
              "  <tbody>\n",
              "    <tr>\n",
              "      <th>0</th>\n",
              "      <td>1</td>\n",
              "      <td>lynn rubenson</td>\n",
              "      <td>lynnrubenson@gmail.com</td>\n",
              "      <td>12/19/2018 15:13</td>\n",
              "      <td>My philosophy of saving for the future is:</td>\n",
              "      <td>I want to have enough to give my children an i...</td>\n",
              "      <td>NaN</td>\n",
              "      <td>NaN</td>\n",
              "      <td>NaN</td>\n",
              "      <td>NaN</td>\n",
              "    </tr>\n",
              "    <tr>\n",
              "      <th>1</th>\n",
              "      <td>2</td>\n",
              "      <td>Jennifer A Nusser</td>\n",
              "      <td>Jenster11174@yahoo.com</td>\n",
              "      <td>12/19/2018 15:13</td>\n",
              "      <td>My philosophy of saving for the future is:</td>\n",
              "      <td>I plan to spend my retirement savings on mysel...</td>\n",
              "      <td>NaN</td>\n",
              "      <td>NaN</td>\n",
              "      <td>NaN</td>\n",
              "      <td>NaN</td>\n",
              "    </tr>\n",
              "    <tr>\n",
              "      <th>2</th>\n",
              "      <td>3</td>\n",
              "      <td>Devon Goetze</td>\n",
              "      <td>noved727@yahoo.com</td>\n",
              "      <td>12/19/2018 15:13</td>\n",
              "      <td>My philosophy of saving for the future is:</td>\n",
              "      <td>I want to have enough to give my children an i...</td>\n",
              "      <td>NaN</td>\n",
              "      <td>NaN</td>\n",
              "      <td>NaN</td>\n",
              "      <td>NaN</td>\n",
              "    </tr>\n",
              "    <tr>\n",
              "      <th>3</th>\n",
              "      <td>4</td>\n",
              "      <td>Karen McWilliams</td>\n",
              "      <td>kmcwilliams@zoominternet.net</td>\n",
              "      <td>12/19/2018 15:13</td>\n",
              "      <td>My philosophy of saving for the future is:</td>\n",
              "      <td>I want to have enough to give my children an i...</td>\n",
              "      <td>NaN</td>\n",
              "      <td>NaN</td>\n",
              "      <td>NaN</td>\n",
              "      <td>NaN</td>\n",
              "    </tr>\n",
              "    <tr>\n",
              "      <th>4</th>\n",
              "      <td>5</td>\n",
              "      <td>Tawnya Dilling</td>\n",
              "      <td>mechaousy@yahoo.com</td>\n",
              "      <td>12/19/2018 15:13</td>\n",
              "      <td>My philosophy of saving for the future is:</td>\n",
              "      <td>I want to have enough to give my children an i...</td>\n",
              "      <td>NaN</td>\n",
              "      <td>NaN</td>\n",
              "      <td>NaN</td>\n",
              "      <td>NaN</td>\n",
              "    </tr>\n",
              "  </tbody>\n",
              "</table>\n",
              "</div>"
            ],
            "text/plain": [
              "   id               User  ... Question3 Answer3\n",
              "0   1      lynn rubenson  ...       NaN     NaN\n",
              "1   2  Jennifer A Nusser  ...       NaN     NaN\n",
              "2   3       Devon Goetze  ...       NaN     NaN\n",
              "3   4   Karen McWilliams  ...       NaN     NaN\n",
              "4   5     Tawnya Dilling  ...       NaN     NaN\n",
              "\n",
              "[5 rows x 10 columns]"
            ]
          },
          "metadata": {
            "tags": []
          },
          "execution_count": 114
        }
      ]
    },
    {
      "cell_type": "markdown",
      "metadata": {
        "id": "iBQ9G9ShaFku",
        "colab_type": "text"
      },
      "source": [
        "## Create Function"
      ]
    },
    {
      "cell_type": "markdown",
      "metadata": {
        "id": "kSig_3CGh63I",
        "colab_type": "text"
      },
      "source": [
        "Click on the folder again and paste the path to the folder you would like to save to make sure its the file and not the object"
      ]
    },
    {
      "cell_type": "code",
      "metadata": {
        "id": "oqFFRx3Cf009",
        "colab_type": "code",
        "colab": {
          "base_uri": "https://localhost:8080/",
          "height": 34
        },
        "outputId": "cd60ea01-4145-46be-a25c-1d364d6525d9"
      },
      "source": [
        "# Copy the Google Drive Folder to save to\n",
        "%cd  \"/content/drive/My Drive/\""
      ],
      "execution_count": null,
      "outputs": [
        {
          "output_type": "stream",
          "text": [
            "/content/drive/My Drive\n"
          ],
          "name": "stdout"
        }
      ]
    },
    {
      "cell_type": "code",
      "metadata": {
        "id": "f-p83WhXJs91",
        "colab_type": "code",
        "colab": {}
      },
      "source": [
        "# Creates the function that will make the charts and save them to your folder\n",
        "def chartmaker(dfi):   \n",
        "  import altair as alt\n",
        "  bars = alt.Chart(dfi).transform_joinaggregate(\n",
        "      TotalCount='sum(Count)',\n",
        "  ).transform_calculate(\n",
        "      PercentOfTotal=\"datum.Count / datum.TotalCount\"\n",
        "  ).mark_bar().encode(\n",
        "      alt.X('PercentOfTotal:Q', axis=alt.Axis(format='.0%')),\n",
        "      y='Answer'\n",
        "  ).properties(\n",
        "      title=i\n",
        "  )\n",
        "\n",
        "  bars.configure_title(\n",
        "      fontSize=20,\n",
        "      font='Courier',\n",
        "      anchor='start',\n",
        "      color='gray'\n",
        "      )\n",
        "\n",
        "  text = bars.mark_text(\n",
        "      align='left',\n",
        "      baseline='middle',\n",
        "      dx=3  # Nudges text to right so it doesn't appear on top of the bar\n",
        "  ).encode(\n",
        "      text='Count'\n",
        "  )\n",
        "  mychart= (bars + text)\n",
        "  mychart.save(i+'chart.svg')\n",
        "  print (i +'chart.svg' + \" saved\")\n",
        "  return(bars + text)\n",
        "\n"
      ],
      "execution_count": null,
      "outputs": []
    },
    {
      "cell_type": "markdown",
      "metadata": {
        "id": "7ZMP3jfaaVfc",
        "colab_type": "text"
      },
      "source": [
        "## Loop through the Data"
      ]
    },
    {
      "cell_type": "markdown",
      "metadata": {
        "id": "fTUV8vn1jH4_",
        "colab_type": "text"
      },
      "source": [
        "This loop will actually save the charts"
      ]
    },
    {
      "cell_type": "code",
      "metadata": {
        "id": "aZSbvSigFeLd",
        "colab_type": "code",
        "colab": {
          "base_uri": "https://localhost:8080/",
          "height": 204
        },
        "outputId": "242eebc4-46e2-4619-d055-cf1459e80327"
      },
      "source": [
        "# Run a loop to create a dataframe and put it through the charting function\n",
        "\n",
        "qa = {\"Question1\": \"Answer1\", \"Question2\": \"Answer2\", \"Question3\": \"Answer3\"}\n",
        "\n",
        "for key in qa:\n",
        "  for i in JL_polls[key].unique():\n",
        "    if pd.notnull(i):\n",
        "      df = JL_polls.loc[JL_polls[key] == i,]\n",
        "      df = df.groupby(by=qa[key], as_index=False).agg({'id': pd.Series.nunique})\n",
        "      if not df.empty:\n",
        "        df.columns = [\"Answer\",\"Count\"]\n",
        "        chartmaker(df)\n",
        "        \n",
        "\n"
      ],
      "execution_count": null,
      "outputs": [
        {
          "output_type": "stream",
          "text": [
            "My philosophy of saving for the future is:chart.svg saved\n",
            "I think class action lawsuits:chart.svg saved\n",
            "I think that people who sue get too much money:chart.svg saved\n",
            "When I invest my money:chart.svg saved\n",
            "I supervise people in my job:chart.svg saved\n",
            "I have had good experiences with Bank of New York Mellonchart.svg saved\n",
            "How do you make most of your decisions?chart.svg saved\n",
            "My banking experience has been:chart.svg saved\n",
            "I have been a juror before:chart.svg saved\n",
            "I have had good experiences with PNC Bankchart.svg saved\n",
            "Which is more true of you:chart.svg saved\n"
          ],
          "name": "stdout"
        }
      ]
    },
    {
      "cell_type": "markdown",
      "metadata": {
        "id": "SETZ6gTxjQ3C",
        "colab_type": "text"
      },
      "source": [
        "You Should be able to find it in there!"
      ]
    },
    {
      "cell_type": "code",
      "metadata": {
        "id": "zfFiINwhd2y9",
        "colab_type": "code",
        "colab": {
          "base_uri": "https://localhost:8080/",
          "height": 1000
        },
        "outputId": "102f6db4-f9f1-4f93-8d8f-30dfa0c16823"
      },
      "source": [
        "# shows all contents of directory\n",
        "!ls\n"
      ],
      "execution_count": null,
      "outputs": [
        {
          "output_type": "stream",
          "text": [
            "'11589 CR Solution Generating Research Summary Report - US v Holland and Moore v4_jk.docx'\n",
            "'11589 CR Solution Generating Research Summary Report - US v Holland and Moore v4_jk.gdoc'\n",
            "'12237 Respondent Listing San Joaquin County CA (1).gsheet'\n",
            "'12237 Respondent Listing San Joaquin County CA.gsheet'\n",
            "'12237 Respondent Listing San Joaquin County CA.xlsx'\n",
            "'12239 Respondent Listing DQ Youngtown OH_Dec 3_2019 v6.gsheet'\n",
            "'12239 Respondent Listing DQ Youngtown OH_Dec 3_2019 v6.xlsx'\n",
            "'12330 JL - Northern Dist. Chicago, IL (2) (1).gsheet'\n",
            "'12330 JL - Northern Dist. Chicago, IL (2).gsheet'\n",
            "'12330 JL - Northern Dist. Chicago, IL (2).xlsx'\n",
            "'12348 Orange County, FL Screener.docx'\n",
            "'12348 Orange County, FL Screener.gdoc'\n",
            "'12538 Miami FL Final Recruit.gsheet'\n",
            "'12538 Miami FL Final Recruit.xlsx'\n",
            " 718_Tavarez_Project\n",
            " CLAIMS\n",
            "'Colab Notebooks'\n",
            " Conrad_Tavarez_Lab6.ipynb\n",
            " D\n",
            "'DQ Kanawha March 2020.xlsx'\n",
            "'Getting started.pdf'\n",
            "'How do you make most of your decisions?chart.svg'\n",
            " HW7answersfixed.txt\n",
            " HW7answers.txt\n",
            "'I have been a juror before:chart.svg'\n",
            "'I have had good experiences with Bank of New York Mellonchart.svg'\n",
            "'I have had good experiences with PNC Bankchart.svg'\n",
            " IntellectFaces_DecisionQuest_Proposal-3rdJune2019.gslides\n",
            " IntellectFaces_DecisionQuest_Proposal-3rdJune2019.pptx\n",
            " IST\n",
            "'I supervise people in my job:chart.svg'\n",
            "'I think class action lawsuits:chart.svg'\n",
            "'I think that people who sue get too much money:chart.svg'\n",
            "'JL - 12394 - Oklahoma City, OK.gsheet'\n",
            "'JL - 12394 - Oklahoma City, OK.xlsx'\n",
            "'JL ideas.gdoc'\n",
            " JuryLiveP1.mp4\n",
            "'jurylive script 11 .11  internal version.docx'\n",
            "'jurylive script 11 .11  internal version.gdoc'\n",
            "'Jurylive testing bullet points.gdoc'\n",
            "'Lab 2 (1).ipynb'\n",
            "'MCLE Rules and updates.gdoc'\n",
            "'My banking experience has been:chart.svg'\n",
            "'My philosophy of saving for the future is:chart.svg'\n",
            "'Online Projects'\n",
            " sample_JL.csv\n",
            " sample_JL.csvichart.svg\n",
            " Social_Discovery_Cases_CT\n",
            " TechSmith\n",
            " TweetsDB\n",
            "'Untitled document.gdoc'\n",
            "'Untitled spreadsheet (1).gsheet'\n",
            "'Untitled spreadsheet (2).gsheet'\n",
            "'Untitled spreadsheet (3).gsheet'\n",
            "'Untitled spreadsheet (4).gsheet'\n",
            "'Untitled spreadsheet.gsheet'\n",
            "'USDC Western Dist., Oklahoma City, OK.xlsx'\n",
            " VOTERDATA\n",
            "'West Virginia Recruiting.gsheet'\n",
            "'When I invest my money:chart.svg'\n",
            "'Which is more true of you:chart.svg'\n",
            "'XenonStack Proposal For Legal Data Platform powered by AI.gdoc'\n",
            "'XenonStack Proposal For Legal Data Platform powered by AI.pdf'\n",
            " Z_fbook.zip\n"
          ],
          "name": "stdout"
        }
      ]
    },
    {
      "cell_type": "code",
      "metadata": {
        "id": "cNVF1QFSUaqr",
        "colab_type": "code",
        "colab": {
          "base_uri": "https://localhost:8080/",
          "height": 120
        },
        "outputId": "bd65e077-1ffe-496a-ac32-57ba11dc2aab"
      },
      "source": [
        "# Run to make a single Chart\n",
        "import altair as alt\n",
        "bars = alt.Chart(df).transform_joinaggregate(\n",
        "    TotalCount='sum(Count)',\n",
        ").transform_calculate(\n",
        "    PercentOfTotal=\"datum.Count / datum.TotalCount\"\n",
        ").mark_bar().encode(\n",
        "    alt.X('PercentOfTotal:Q', axis=alt.Axis(format='.0%')),\n",
        "    y='Answer'\n",
        ").properties(\n",
        "    title='Question'\n",
        ")\n",
        "bars.configure_title(\n",
        "    fontSize=20,\n",
        "    font='Courier',\n",
        "    anchor='start',\n",
        "    color='gray'\n",
        "    )\n",
        "\n",
        "text = bars.mark_text(\n",
        "    align='left',\n",
        "    baseline='middle',\n",
        "    dx=3  # Nudges text to right so it doesn't appear on top of the bar\n",
        ").encode(\n",
        "    text='Count'\n",
        ")\n",
        "\n",
        "(bars + text)\n",
        "\n"
      ],
      "execution_count": null,
      "outputs": [
        {
          "output_type": "execute_result",
          "data": {
            "text/plain": [
              "alt.LayerChart(...)"
            ],
            "text/html": [
              "\n",
              "<div id=\"altair-viz-4e54b2ffb4c14cd1864356a44cff0b1b\"></div>\n",
              "<script type=\"text/javascript\">\n",
              "  (function(spec, embedOpt){\n",
              "    let outputDiv = document.currentScript.previousElementSibling;\n",
              "    if (outputDiv.id !== \"altair-viz-4e54b2ffb4c14cd1864356a44cff0b1b\") {\n",
              "      outputDiv = document.getElementById(\"altair-viz-4e54b2ffb4c14cd1864356a44cff0b1b\");\n",
              "    }\n",
              "    const paths = {\n",
              "      \"vega\": \"https://cdn.jsdelivr.net/npm//vega@5?noext\",\n",
              "      \"vega-lib\": \"https://cdn.jsdelivr.net/npm//vega-lib?noext\",\n",
              "      \"vega-lite\": \"https://cdn.jsdelivr.net/npm//vega-lite@4.8.1?noext\",\n",
              "      \"vega-embed\": \"https://cdn.jsdelivr.net/npm//vega-embed@6?noext\",\n",
              "    };\n",
              "\n",
              "    function loadScript(lib) {\n",
              "      return new Promise(function(resolve, reject) {\n",
              "        var s = document.createElement('script');\n",
              "        s.src = paths[lib];\n",
              "        s.async = true;\n",
              "        s.onload = () => resolve(paths[lib]);\n",
              "        s.onerror = () => reject(`Error loading script: ${paths[lib]}`);\n",
              "        document.getElementsByTagName(\"head\")[0].appendChild(s);\n",
              "      });\n",
              "    }\n",
              "\n",
              "    function showError(err) {\n",
              "      outputDiv.innerHTML = `<div class=\"error\" style=\"color:red;\">${err}</div>`;\n",
              "      throw err;\n",
              "    }\n",
              "\n",
              "    function displayChart(vegaEmbed) {\n",
              "      vegaEmbed(outputDiv, spec, embedOpt)\n",
              "        .catch(err => showError(`Javascript Error: ${err.message}<br>This usually means there's a typo in your chart specification. See the javascript console for the full traceback.`));\n",
              "    }\n",
              "\n",
              "    if(typeof define === \"function\" && define.amd) {\n",
              "      requirejs.config({paths});\n",
              "      require([\"vega-embed\"], displayChart, err => showError(`Error loading script: ${err.message}`));\n",
              "    } else if (typeof vegaEmbed === \"function\") {\n",
              "      displayChart(vegaEmbed);\n",
              "    } else {\n",
              "      loadScript(\"vega\")\n",
              "        .then(() => loadScript(\"vega-lite\"))\n",
              "        .then(() => loadScript(\"vega-embed\"))\n",
              "        .catch(showError)\n",
              "        .then(() => displayChart(vegaEmbed));\n",
              "    }\n",
              "  })({\"config\": {\"view\": {\"continuousWidth\": 400, \"continuousHeight\": 300}}, \"layer\": [{\"mark\": \"bar\", \"encoding\": {\"x\": {\"type\": \"quantitative\", \"axis\": {\"format\": \".0%\"}, \"field\": \"PercentOfTotal\"}, \"y\": {\"type\": \"nominal\", \"field\": \"Answer\"}}, \"title\": \"Question\", \"transform\": [{\"joinaggregate\": [{\"op\": \"sum\", \"field\": \"Count\", \"as\": \"TotalCount\"}]}, {\"calculate\": \"datum.Count / datum.TotalCount\", \"as\": \"PercentOfTotal\"}]}, {\"mark\": {\"type\": \"text\", \"align\": \"left\", \"baseline\": \"middle\", \"dx\": 3}, \"encoding\": {\"text\": {\"type\": \"quantitative\", \"field\": \"Count\"}, \"x\": {\"type\": \"quantitative\", \"axis\": {\"format\": \".0%\"}, \"field\": \"PercentOfTotal\"}, \"y\": {\"type\": \"nominal\", \"field\": \"Answer\"}}, \"title\": \"Question\", \"transform\": [{\"joinaggregate\": [{\"op\": \"sum\", \"field\": \"Count\", \"as\": \"TotalCount\"}]}, {\"calculate\": \"datum.Count / datum.TotalCount\", \"as\": \"PercentOfTotal\"}]}], \"data\": {\"name\": \"data-d08d89e77e999473e36f23aeb4e82720\"}, \"$schema\": \"https://vega.github.io/schema/vega-lite/v4.8.1.json\", \"datasets\": {\"data-d08d89e77e999473e36f23aeb4e82720\": [{\"Answer\": \"I can\\u2019t save or invest because I don\\u2019t have extra money\", \"Count\": 3}, {\"Answer\": \"I make sure I invest money for the future\", \"Count\": 9}]}}, {\"mode\": \"vega-lite\"});\n",
              "</script>"
            ]
          },
          "metadata": {
            "tags": []
          },
          "execution_count": 243
        }
      ]
    },
    {
      "cell_type": "code",
      "metadata": {
        "id": "QDxYSFCkfg7r",
        "colab_type": "code",
        "colab": {
          "base_uri": "https://localhost:8080/",
          "height": 34
        },
        "outputId": "9f86069b-7296-4151-ca05-478860bd8199"
      },
      "source": [
        ""
      ],
      "execution_count": null,
      "outputs": [
        {
          "output_type": "stream",
          "text": [
            "/content/drive/My Drive\n"
          ],
          "name": "stdout"
        }
      ]
    }
  ]
}